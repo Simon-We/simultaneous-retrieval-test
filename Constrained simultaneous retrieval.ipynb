{
 "cells": [
  {
   "cell_type": "markdown",
   "metadata": {},
   "source": [
    "## Exemplary script for constrained simultaneous retrieval\n",
    "\n",
    "This Python notebook provides an exemplary script for the constrained simultaneous retrieval of sea ice thickness d and sea ice Salinity d. Brightness temperature (TB) simulation is computed with SMRT. Therefore, to run the script it is required to have SMRT installed. I had SMRT installed on the server of University of Hamburg. Hence, if working here, simply run\n",
    "\n",
    "-> module load anaconda3\n",
    "\n",
    "in your terminal prior to executing this script. When working from your home PC, you must install SMRT first. Therefore, you can use\n",
    "\n",
    "-> git clone https://github.com/smrt-model/smrt\n",
    "\n",
    "\n",
    "\n",
    "Please make sure you set the Pythonpath for SMRT in your /.bash_rc. Therefore, edit your /.bash_rc with\n",
    "\n",
    "-> export PYTHONPATH=\"/home/User/location/smrt\"\n",
    "\n",
    "\n",
    "For a more detailed description on how to install SMRT, see https://github.com/smrt-model.\n",
    "\n",
    "\n",
    "\n",
    "\n",
    "For more information in the below script, have a look in my Thesis $\\textit{Advancing sea ice remote sensing through wideband brightness temperature simulation}$ \n",
    "\n",
    "or feel free to contact me: simon.we@me.com\n",
    "\n",
    "\n",
    "\n",
    "\n",
    "Note: TB simulation with SMRT is likely to cause multi-threading. You can avoid multi-threading by implementing \n",
    "\n",
    "\n",
    "in your code.\n",
    "\n",
    "For beginning make sure to chose low N and low NI to keep computational time at a minimum"
   ]
  },
  {
   "cell_type": "markdown",
   "metadata": {},
   "source": [
    "The initial step is to load, among others, necessary SMRT modules."
   ]
  },
  {
   "cell_type": "code",
   "execution_count": 102,
   "metadata": {},
   "outputs": [
    {
     "name": "stdout",
     "output_type": "stream",
     "text": [
      "Populating the interactive namespace from numpy and matplotlib\n"
     ]
    }
   ],
   "source": [
    "%pylab inline\n",
    "import scipy.stats as stats\n",
    "import pandas as pd\n",
    "from io import StringIO\n",
    "from scipy.optimize import curve_fit, minimize\n",
    "import scipy.io as sio\n",
    "import numpy as np\n",
    "import matplotlib.pyplot as plt\n",
    "\n",
    "#load SMRT modules\n",
    "from smrt import make_model, make_snowpack, sensor_list, make_ice_column\n",
    "from smrt.utils import dB\n",
    "from smrt import PSU\n",
    "from smrt.permittivity.wetsnow import wetsnow_permittivity"
   ]
  },
  {
   "cell_type": "markdown",
   "metadata": {},
   "source": [
    "The following cell defines functions that initiat TB simulation. Functions will be called by the retrieval algorithm."
   ]
  },
  {
   "cell_type": "code",
   "execution_count": 145,
   "metadata": {},
   "outputs": [],
   "source": [
    "########################## TB simulation #############################################################################\n",
    "\n",
    "#TB in dependency of d and S\n",
    "def Tb_S_d(p):\n",
    "    d,S_ice=p[0],p[1]\n",
    "    T_ice = linspace(273.15+(temperature_init), 273.15 - 1.8, 2*set_layers+1)\n",
    "    c=1.0\n",
    "    return Tb_f(c,d,T_ice,S_ice)\n",
    "\n",
    "#TB simulation with SMRT for frequency f\n",
    "def Tb_f(c,d,T_ice,S_ice):\n",
    "    Tb=[]\n",
    "    for f in frequency:\n",
    "        sensor = sensor_list.passive(f*1e9, incidence_angle) #sensor configuration\n",
    "        temperature = linspace(273.15+(surface_temperature), 273.15+(water_temperature), 2*set_layers+1)\n",
    "                                #temperature gradient in the ice from surface temp\n",
    "                                #at top to temperature of water at bottom\n",
    "        temperature = temperature[1::2] # average temperatures of layers (=temperature at midpoints)\n",
    "        thickness = array([d/set_layers] * set_layers) #thickness of each layer\n",
    "        salinity = S_ice*PSU #PSU as SI unit for SMRT\n",
    "        \n",
    "        #modelling of a sea ice column with the make layer submodel\n",
    "        ice_column = make_ice_column(ice_type=ice_type,thickness=thickness,\n",
    "                                temperature=temperature,\n",
    "                                microstructure_model=\"exponential\",\n",
    "                                brine_inclusion_shape=inclusion_shape, \n",
    "                                salinity=salinity,\n",
    "                                corr_length=corr_length,\n",
    "                                add_water_substrate=\"ocean\"\n",
    "                                )\n",
    "\n",
    "        # run the model\n",
    "        res = m.run(sensor, ice_column)\n",
    "        res_TB = (res.TbH() + res.TbV())/2 #mean TB from vertically and horizontally polarized TB\n",
    "        Tb.append(res_TB)\n",
    "    return array(Tb)"
   ]
  },
  {
   "cell_type": "markdown",
   "metadata": {},
   "source": [
    "The next cell defines the objective function, which is minimised by the algorithm. "
   ]
  },
  {
   "cell_type": "code",
   "execution_count": 146,
   "metadata": {},
   "outputs": [],
   "source": [
    "# objective func\n",
    "def objective_func(p, noise):\n",
    "    Tb_model=Tb_S_d(p)\n",
    "    return linalg.norm((Tb_model-noise)**2) #calculates Norm (L2-norm, Frobius), as we cannot \n",
    "                                                #use the vector in opti.minimize\n",
    "    "
   ]
  },
  {
   "cell_type": "markdown",
   "metadata": {},
   "source": [
    "Next, functions that constrain the retrieval algorithm are defined."
   ]
  },
  {
   "cell_type": "code",
   "execution_count": 147,
   "metadata": {},
   "outputs": [],
   "source": [
    "############################# subject funtion/constraint #############################################################\n",
    "\n",
    "def subject_func(p):\n",
    "    S_init         = p[1] #get true salinity \n",
    "    salinity_diff = abs(S_d(p) - S_init) #calculate difference S_mod - S_true\n",
    "    return G - salinity_diff #must be non-negative\n",
    "\n",
    "\n",
    "############################ Salinity parameterisations ##############################################################\n",
    "\n",
    "def Kovacs_fit(p): #S(d) from Kovacs\n",
    "    d = p[0]\n",
    "    Sw = 31\n",
    "    Sr2 = 0.175\n",
    "    a = 0.5\n",
    "    return (Sw*(1-Sr2)*exp(-a*sqrt(d*100))+Sr2*Sw)\n",
    "\n",
    "def Ryvlin_fit(p): #S(d) from Kovacs\n",
    "    d = p[0]\n",
    "    Sw = 31\n",
    "    Sr2 = 0.13\n",
    "    a = 0.5\n",
    "    return (Sw*(1-Sr2)*exp(-a*sqrt(d*100))+Sr2*Sw)\n",
    "\n",
    "def Nice_fit(p): #fit from NICE\n",
    "    d = p[0]\n",
    "    return 3.592 + divide(1.056,d)\n",
    "\n",
    "def Combi_fit(p): #fit from NICE\n",
    "    d = p[0]\n",
    "    return 4.606 + divide(91.603,d)\n"
   ]
  },
  {
   "cell_type": "markdown",
   "metadata": {},
   "source": [
    "The constrained retrieval is adjusted by the following parameters"
   ]
  },
  {
   "cell_type": "code",
   "execution_count": 148,
   "metadata": {},
   "outputs": [],
   "source": [
    "Gtol = 1e-3 #stopping criteria\n",
    "G = 3 # threshold that constrains the subject function\n",
    "N_TB_f = 2 # number of frequencies considered in the retrieval\n",
    "FI = 5 #sample density for retrieval\n",
    "def S_d(p):\n",
    "    return Kovacs_fit(p) #change salnity parameterisation to desired S(d)\n",
    "                        #a more detailed description on implemented S(d) is given in my thesis in section 5."
   ]
  },
  {
   "cell_type": "markdown",
   "metadata": {},
   "source": [
    "Define SMRT settings"
   ]
  },
  {
   "cell_type": "code",
   "execution_count": 149,
   "metadata": {},
   "outputs": [],
   "source": [
    "###########################  SMRT setting  #################################################\n",
    "\n",
    "#medium settings\n",
    "ice_type = 'firstyear' # first-year or multi-year sea ice\n",
    "porosity = 0. # ice porosity in fractions, [0..1]\n",
    "surface_temperature = -20 \n",
    "water_temperature = -1.8\n",
    "corr_length = 1.0e-3 #correlation length\n",
    "inclusion_shape={\"spheres\":1,\"random_needles\":0} #set ratio of spheres and needles\n",
    "\n",
    "#create the sensor\n",
    "incidence_angle = 30 #angle of incidence\n",
    "n_max_stream = 32 #number of computed streams\n",
    "frequency = linspace(0.5,4,N_TB_f) #frequencies in GHz\n",
    "len_frequency = len(frequency)\n",
    "m = make_model(\"iba\", \"dort\", rtsolver_options ={\"n_max_stream\": n_max_stream}) #define the model"
   ]
  },
  {
   "cell_type": "markdown",
   "metadata": {},
   "source": [
    "Select value ranges and boundaries for the retrieval"
   ]
  },
  {
   "cell_type": "code",
   "execution_count": 150,
   "metadata": {},
   "outputs": [],
   "source": [
    "###################### settings for the retrieval ###################################################################\n",
    "\n",
    "bounds = ((0.02,1),(1,25)) #d bounds and S bounds\n",
    "d_range= linspace(0.02,1,1*FI+1) #value range of investigated sea ice thickness\n",
    "S_range= linspace(1,25,1*FI+1) #value range of investigated sea ice salinity\n",
    "layers = 5 #np.round(np.linspace(2,10,len(d_range))).astype(int) #number of ice layers predefined\n",
    "N = 10 # number of times retrieval of each (d,S) is repeated - for statistics (mean and std)"
   ]
  },
  {
   "cell_type": "markdown",
   "metadata": {},
   "source": [
    "The following cell executes the retrieval"
   ]
  },
  {
   "cell_type": "code",
   "execution_count": 151,
   "metadata": {},
   "outputs": [
    {
     "ename": "KeyboardInterrupt",
     "evalue": "",
     "output_type": "error",
     "traceback": [
      "\u001b[0;31m---------------------------------------------------------------------------\u001b[0m",
      "\u001b[0;31mKeyboardInterrupt\u001b[0m                         Traceback (most recent call last)",
      "\u001b[0;32m<ipython-input-151-bfb28f1fa194>\u001b[0m in \u001b[0;36m<module>\u001b[0;34m\u001b[0m\n\u001b[1;32m     20\u001b[0m                                 \u001b[0mmethod\u001b[0m      \u001b[0;34m=\u001b[0m \u001b[0;34m'SLSQP'\u001b[0m\u001b[0;34m,\u001b[0m\u001b[0;34m\u001b[0m\u001b[0;34m\u001b[0m\u001b[0m\n\u001b[1;32m     21\u001b[0m                                 \u001b[0mtol\u001b[0m         \u001b[0;34m=\u001b[0m \u001b[0;36m1e-3\u001b[0m\u001b[0;34m,\u001b[0m\u001b[0;34m\u001b[0m\u001b[0;34m\u001b[0m\u001b[0m\n\u001b[0;32m---> 22\u001b[0;31m                                 constraints = {'type': 'ineq', 'fun': subject_func}) #constraint type: inequality\n\u001b[0m\u001b[1;32m     23\u001b[0m             \u001b[0mretrieval\u001b[0m\u001b[0;34m.\u001b[0m\u001b[0mappend\u001b[0m\u001b[0;34m(\u001b[0m\u001b[0mresult\u001b[0m\u001b[0;34m.\u001b[0m\u001b[0mx\u001b[0m\u001b[0;34m)\u001b[0m \u001b[0;31m#collect retrieval\u001b[0m\u001b[0;34m\u001b[0m\u001b[0;34m\u001b[0m\u001b[0m\n\u001b[1;32m     24\u001b[0m         \u001b[0mretrieval\u001b[0m \u001b[0;34m=\u001b[0m \u001b[0mnp\u001b[0m\u001b[0;34m.\u001b[0m\u001b[0marray\u001b[0m\u001b[0;34m(\u001b[0m\u001b[0mretrieval\u001b[0m\u001b[0;34m)\u001b[0m\u001b[0;34m\u001b[0m\u001b[0;34m\u001b[0m\u001b[0m\n",
      "\u001b[0;32m~/miniconda3/lib/python3.7/site-packages/scipy/optimize/_minimize.py\u001b[0m in \u001b[0;36mminimize\u001b[0;34m(fun, x0, args, method, jac, hess, hessp, bounds, constraints, tol, callback, options)\u001b[0m\n\u001b[1;32m    607\u001b[0m     \u001b[0;32melif\u001b[0m \u001b[0mmeth\u001b[0m \u001b[0;34m==\u001b[0m \u001b[0;34m'slsqp'\u001b[0m\u001b[0;34m:\u001b[0m\u001b[0;34m\u001b[0m\u001b[0;34m\u001b[0m\u001b[0m\n\u001b[1;32m    608\u001b[0m         return _minimize_slsqp(fun, x0, args, jac, bounds,\n\u001b[0;32m--> 609\u001b[0;31m                                constraints, callback=callback, **options)\n\u001b[0m\u001b[1;32m    610\u001b[0m     \u001b[0;32melif\u001b[0m \u001b[0mmeth\u001b[0m \u001b[0;34m==\u001b[0m \u001b[0;34m'trust-constr'\u001b[0m\u001b[0;34m:\u001b[0m\u001b[0;34m\u001b[0m\u001b[0;34m\u001b[0m\u001b[0m\n\u001b[1;32m    611\u001b[0m         return _minimize_trustregion_constr(fun, x0, args, jac, hess, hessp,\n",
      "\u001b[0;32m~/miniconda3/lib/python3.7/site-packages/scipy/optimize/slsqp.py\u001b[0m in \u001b[0;36m_minimize_slsqp\u001b[0;34m(func, x0, args, jac, bounds, constraints, maxiter, ftol, iprint, disp, eps, callback, **unknown_options)\u001b[0m\n\u001b[1;32m    421\u001b[0m             \u001b[0;31m# Compute the derivatives of the objective function\u001b[0m\u001b[0;34m\u001b[0m\u001b[0;34m\u001b[0m\u001b[0;34m\u001b[0m\u001b[0m\n\u001b[1;32m    422\u001b[0m             \u001b[0;31m# For some reason SLSQP wants g dimensioned to n+1\u001b[0m\u001b[0;34m\u001b[0m\u001b[0;34m\u001b[0m\u001b[0;34m\u001b[0m\u001b[0m\n\u001b[0;32m--> 423\u001b[0;31m             \u001b[0mg\u001b[0m \u001b[0;34m=\u001b[0m \u001b[0mappend\u001b[0m\u001b[0;34m(\u001b[0m\u001b[0mfprime\u001b[0m\u001b[0;34m(\u001b[0m\u001b[0mx\u001b[0m\u001b[0;34m)\u001b[0m\u001b[0;34m,\u001b[0m \u001b[0;36m0.0\u001b[0m\u001b[0;34m)\u001b[0m\u001b[0;34m\u001b[0m\u001b[0;34m\u001b[0m\u001b[0m\n\u001b[0m\u001b[1;32m    424\u001b[0m \u001b[0;34m\u001b[0m\u001b[0m\n\u001b[1;32m    425\u001b[0m             \u001b[0;31m# Compute the normals of the constraints\u001b[0m\u001b[0;34m\u001b[0m\u001b[0;34m\u001b[0m\u001b[0;34m\u001b[0m\u001b[0m\n",
      "\u001b[0;32m~/miniconda3/lib/python3.7/site-packages/scipy/optimize/optimize.py\u001b[0m in \u001b[0;36mfunction_wrapper\u001b[0;34m(*wrapper_args)\u001b[0m\n\u001b[1;32m    298\u001b[0m     \u001b[0;32mdef\u001b[0m \u001b[0mfunction_wrapper\u001b[0m\u001b[0;34m(\u001b[0m\u001b[0;34m*\u001b[0m\u001b[0mwrapper_args\u001b[0m\u001b[0;34m)\u001b[0m\u001b[0;34m:\u001b[0m\u001b[0;34m\u001b[0m\u001b[0;34m\u001b[0m\u001b[0m\n\u001b[1;32m    299\u001b[0m         \u001b[0mncalls\u001b[0m\u001b[0;34m[\u001b[0m\u001b[0;36m0\u001b[0m\u001b[0;34m]\u001b[0m \u001b[0;34m+=\u001b[0m \u001b[0;36m1\u001b[0m\u001b[0;34m\u001b[0m\u001b[0;34m\u001b[0m\u001b[0m\n\u001b[0;32m--> 300\u001b[0;31m         \u001b[0;32mreturn\u001b[0m \u001b[0mfunction\u001b[0m\u001b[0;34m(\u001b[0m\u001b[0;34m*\u001b[0m\u001b[0;34m(\u001b[0m\u001b[0mwrapper_args\u001b[0m \u001b[0;34m+\u001b[0m \u001b[0margs\u001b[0m\u001b[0;34m)\u001b[0m\u001b[0;34m)\u001b[0m\u001b[0;34m\u001b[0m\u001b[0;34m\u001b[0m\u001b[0m\n\u001b[0m\u001b[1;32m    301\u001b[0m \u001b[0;34m\u001b[0m\u001b[0m\n\u001b[1;32m    302\u001b[0m     \u001b[0;32mreturn\u001b[0m \u001b[0mncalls\u001b[0m\u001b[0;34m,\u001b[0m \u001b[0mfunction_wrapper\u001b[0m\u001b[0;34m\u001b[0m\u001b[0;34m\u001b[0m\u001b[0m\n",
      "\u001b[0;32m~/miniconda3/lib/python3.7/site-packages/scipy/optimize/slsqp.py\u001b[0m in \u001b[0;36mapprox_jacobian\u001b[0;34m(x, func, epsilon, *args)\u001b[0m\n\u001b[1;32m     61\u001b[0m     \u001b[0;32mfor\u001b[0m \u001b[0mi\u001b[0m \u001b[0;32min\u001b[0m \u001b[0mrange\u001b[0m\u001b[0;34m(\u001b[0m\u001b[0mlen\u001b[0m\u001b[0;34m(\u001b[0m\u001b[0mx0\u001b[0m\u001b[0;34m)\u001b[0m\u001b[0;34m)\u001b[0m\u001b[0;34m:\u001b[0m\u001b[0;34m\u001b[0m\u001b[0;34m\u001b[0m\u001b[0m\n\u001b[1;32m     62\u001b[0m         \u001b[0mdx\u001b[0m\u001b[0;34m[\u001b[0m\u001b[0mi\u001b[0m\u001b[0;34m]\u001b[0m \u001b[0;34m=\u001b[0m \u001b[0mepsilon\u001b[0m\u001b[0;34m\u001b[0m\u001b[0;34m\u001b[0m\u001b[0m\n\u001b[0;32m---> 63\u001b[0;31m         \u001b[0mjac\u001b[0m\u001b[0;34m[\u001b[0m\u001b[0mi\u001b[0m\u001b[0;34m]\u001b[0m \u001b[0;34m=\u001b[0m \u001b[0;34m(\u001b[0m\u001b[0mfunc\u001b[0m\u001b[0;34m(\u001b[0m\u001b[0;34m*\u001b[0m\u001b[0;34m(\u001b[0m\u001b[0;34m(\u001b[0m\u001b[0mx0\u001b[0m\u001b[0;34m+\u001b[0m\u001b[0mdx\u001b[0m\u001b[0;34m,\u001b[0m\u001b[0;34m)\u001b[0m\u001b[0;34m+\u001b[0m\u001b[0margs\u001b[0m\u001b[0;34m)\u001b[0m\u001b[0;34m)\u001b[0m \u001b[0;34m-\u001b[0m \u001b[0mf0\u001b[0m\u001b[0;34m)\u001b[0m\u001b[0;34m/\u001b[0m\u001b[0mepsilon\u001b[0m\u001b[0;34m\u001b[0m\u001b[0;34m\u001b[0m\u001b[0m\n\u001b[0m\u001b[1;32m     64\u001b[0m         \u001b[0mdx\u001b[0m\u001b[0;34m[\u001b[0m\u001b[0mi\u001b[0m\u001b[0;34m]\u001b[0m \u001b[0;34m=\u001b[0m \u001b[0;36m0.0\u001b[0m\u001b[0;34m\u001b[0m\u001b[0;34m\u001b[0m\u001b[0m\n\u001b[1;32m     65\u001b[0m \u001b[0;34m\u001b[0m\u001b[0m\n",
      "\u001b[0;32m~/miniconda3/lib/python3.7/site-packages/scipy/optimize/optimize.py\u001b[0m in \u001b[0;36mfunction_wrapper\u001b[0;34m(*wrapper_args)\u001b[0m\n\u001b[1;32m    298\u001b[0m     \u001b[0;32mdef\u001b[0m \u001b[0mfunction_wrapper\u001b[0m\u001b[0;34m(\u001b[0m\u001b[0;34m*\u001b[0m\u001b[0mwrapper_args\u001b[0m\u001b[0;34m)\u001b[0m\u001b[0;34m:\u001b[0m\u001b[0;34m\u001b[0m\u001b[0;34m\u001b[0m\u001b[0m\n\u001b[1;32m    299\u001b[0m         \u001b[0mncalls\u001b[0m\u001b[0;34m[\u001b[0m\u001b[0;36m0\u001b[0m\u001b[0;34m]\u001b[0m \u001b[0;34m+=\u001b[0m \u001b[0;36m1\u001b[0m\u001b[0;34m\u001b[0m\u001b[0;34m\u001b[0m\u001b[0m\n\u001b[0;32m--> 300\u001b[0;31m         \u001b[0;32mreturn\u001b[0m \u001b[0mfunction\u001b[0m\u001b[0;34m(\u001b[0m\u001b[0;34m*\u001b[0m\u001b[0;34m(\u001b[0m\u001b[0mwrapper_args\u001b[0m \u001b[0;34m+\u001b[0m \u001b[0margs\u001b[0m\u001b[0;34m)\u001b[0m\u001b[0;34m)\u001b[0m\u001b[0;34m\u001b[0m\u001b[0;34m\u001b[0m\u001b[0m\n\u001b[0m\u001b[1;32m    301\u001b[0m \u001b[0;34m\u001b[0m\u001b[0m\n\u001b[1;32m    302\u001b[0m     \u001b[0;32mreturn\u001b[0m \u001b[0mncalls\u001b[0m\u001b[0;34m,\u001b[0m \u001b[0mfunction_wrapper\u001b[0m\u001b[0;34m\u001b[0m\u001b[0;34m\u001b[0m\u001b[0m\n",
      "\u001b[0;32m<ipython-input-146-301fa71de87e>\u001b[0m in \u001b[0;36mobjective_func\u001b[0;34m(p, noise)\u001b[0m\n\u001b[1;32m      1\u001b[0m \u001b[0;31m# objective func\u001b[0m\u001b[0;34m\u001b[0m\u001b[0;34m\u001b[0m\u001b[0;34m\u001b[0m\u001b[0m\n\u001b[1;32m      2\u001b[0m \u001b[0;32mdef\u001b[0m \u001b[0mobjective_func\u001b[0m\u001b[0;34m(\u001b[0m\u001b[0mp\u001b[0m\u001b[0;34m,\u001b[0m \u001b[0mnoise\u001b[0m\u001b[0;34m)\u001b[0m\u001b[0;34m:\u001b[0m\u001b[0;34m\u001b[0m\u001b[0;34m\u001b[0m\u001b[0m\n\u001b[0;32m----> 3\u001b[0;31m     \u001b[0mTb_model\u001b[0m\u001b[0;34m=\u001b[0m\u001b[0mTb_S_d\u001b[0m\u001b[0;34m(\u001b[0m\u001b[0mp\u001b[0m\u001b[0;34m)\u001b[0m\u001b[0;34m\u001b[0m\u001b[0;34m\u001b[0m\u001b[0m\n\u001b[0m\u001b[1;32m      4\u001b[0m     \u001b[0;32mreturn\u001b[0m \u001b[0mlinalg\u001b[0m\u001b[0;34m.\u001b[0m\u001b[0mnorm\u001b[0m\u001b[0;34m(\u001b[0m\u001b[0;34m(\u001b[0m\u001b[0mTb_model\u001b[0m\u001b[0;34m-\u001b[0m\u001b[0mnoise\u001b[0m\u001b[0;34m)\u001b[0m\u001b[0;34m**\u001b[0m\u001b[0;36m2\u001b[0m\u001b[0;34m)\u001b[0m \u001b[0;31m#calculates Norm (L2-norm, Frobius), as we cannot\u001b[0m\u001b[0;34m\u001b[0m\u001b[0;34m\u001b[0m\u001b[0m\n\u001b[1;32m      5\u001b[0m                                                 \u001b[0;31m#use the vector in opti.minimize\u001b[0m\u001b[0;34m\u001b[0m\u001b[0;34m\u001b[0m\u001b[0;34m\u001b[0m\u001b[0m\n",
      "\u001b[0;32m<ipython-input-145-78e082a03663>\u001b[0m in \u001b[0;36mTb_S_d\u001b[0;34m(p)\u001b[0m\n\u001b[1;32m      6\u001b[0m     \u001b[0mT_ice\u001b[0m \u001b[0;34m=\u001b[0m \u001b[0mlinspace\u001b[0m\u001b[0;34m(\u001b[0m\u001b[0;36m273.15\u001b[0m\u001b[0;34m+\u001b[0m\u001b[0;34m(\u001b[0m\u001b[0mtemperature_init\u001b[0m\u001b[0;34m)\u001b[0m\u001b[0;34m,\u001b[0m \u001b[0;36m273.15\u001b[0m \u001b[0;34m-\u001b[0m \u001b[0;36m1.8\u001b[0m\u001b[0;34m,\u001b[0m \u001b[0;36m2\u001b[0m\u001b[0;34m*\u001b[0m\u001b[0mset_layers\u001b[0m\u001b[0;34m+\u001b[0m\u001b[0;36m1\u001b[0m\u001b[0;34m)\u001b[0m\u001b[0;34m\u001b[0m\u001b[0;34m\u001b[0m\u001b[0m\n\u001b[1;32m      7\u001b[0m     \u001b[0mc\u001b[0m\u001b[0;34m=\u001b[0m\u001b[0;36m1.0\u001b[0m\u001b[0;34m\u001b[0m\u001b[0;34m\u001b[0m\u001b[0m\n\u001b[0;32m----> 8\u001b[0;31m     \u001b[0;32mreturn\u001b[0m \u001b[0mTb_f\u001b[0m\u001b[0;34m(\u001b[0m\u001b[0mc\u001b[0m\u001b[0;34m,\u001b[0m\u001b[0md\u001b[0m\u001b[0;34m,\u001b[0m\u001b[0mT_ice\u001b[0m\u001b[0;34m,\u001b[0m\u001b[0mS_ice\u001b[0m\u001b[0;34m)\u001b[0m\u001b[0;34m\u001b[0m\u001b[0;34m\u001b[0m\u001b[0m\n\u001b[0m\u001b[1;32m      9\u001b[0m \u001b[0;34m\u001b[0m\u001b[0m\n\u001b[1;32m     10\u001b[0m \u001b[0;31m#TB simulation with SMRT for frequency f\u001b[0m\u001b[0;34m\u001b[0m\u001b[0;34m\u001b[0m\u001b[0;34m\u001b[0m\u001b[0m\n",
      "\u001b[0;32m<ipython-input-145-78e082a03663>\u001b[0m in \u001b[0;36mTb_f\u001b[0;34m(c, d, T_ice, S_ice)\u001b[0m\n\u001b[1;32m     31\u001b[0m \u001b[0;34m\u001b[0m\u001b[0m\n\u001b[1;32m     32\u001b[0m         \u001b[0;31m# run the model\u001b[0m\u001b[0;34m\u001b[0m\u001b[0;34m\u001b[0m\u001b[0;34m\u001b[0m\u001b[0m\n\u001b[0;32m---> 33\u001b[0;31m         \u001b[0mres\u001b[0m \u001b[0;34m=\u001b[0m \u001b[0mm\u001b[0m\u001b[0;34m.\u001b[0m\u001b[0mrun\u001b[0m\u001b[0;34m(\u001b[0m\u001b[0msensor\u001b[0m\u001b[0;34m,\u001b[0m \u001b[0mice_column\u001b[0m\u001b[0;34m)\u001b[0m\u001b[0;34m\u001b[0m\u001b[0;34m\u001b[0m\u001b[0m\n\u001b[0m\u001b[1;32m     34\u001b[0m         \u001b[0mres_TB\u001b[0m \u001b[0;34m=\u001b[0m \u001b[0;34m(\u001b[0m\u001b[0mres\u001b[0m\u001b[0;34m.\u001b[0m\u001b[0mTbH\u001b[0m\u001b[0;34m(\u001b[0m\u001b[0;34m)\u001b[0m \u001b[0;34m+\u001b[0m \u001b[0mres\u001b[0m\u001b[0;34m.\u001b[0m\u001b[0mTbV\u001b[0m\u001b[0;34m(\u001b[0m\u001b[0;34m)\u001b[0m\u001b[0;34m)\u001b[0m\u001b[0;34m/\u001b[0m\u001b[0;36m2\u001b[0m \u001b[0;31m#mean TB from vertically and horizontally polarized TB\u001b[0m\u001b[0;34m\u001b[0m\u001b[0;34m\u001b[0m\u001b[0m\n\u001b[1;32m     35\u001b[0m         \u001b[0mTb\u001b[0m\u001b[0;34m.\u001b[0m\u001b[0mappend\u001b[0m\u001b[0;34m(\u001b[0m\u001b[0mres_TB\u001b[0m\u001b[0;34m)\u001b[0m\u001b[0;34m\u001b[0m\u001b[0;34m\u001b[0m\u001b[0m\n",
      "\u001b[0;32m~/smrt/smrt/core/model.py\u001b[0m in \u001b[0;36mrun\u001b[0;34m(self, sensor, snowpack, atmosphere, snowpack_dimension, progressbar)\u001b[0m\n\u001b[1;32m    239\u001b[0m \u001b[0;34m\u001b[0m\u001b[0m\n\u001b[1;32m    240\u001b[0m             \u001b[0;31m# run the rtsolver\u001b[0m\u001b[0;34m\u001b[0m\u001b[0;34m\u001b[0m\u001b[0;34m\u001b[0m\u001b[0m\n\u001b[0;32m--> 241\u001b[0;31m             \u001b[0mresult\u001b[0m \u001b[0;34m=\u001b[0m \u001b[0mrtsolver\u001b[0m\u001b[0;34m.\u001b[0m\u001b[0msolve\u001b[0m\u001b[0;34m(\u001b[0m\u001b[0msnowpack\u001b[0m\u001b[0;34m,\u001b[0m \u001b[0memmodel_instances\u001b[0m\u001b[0;34m,\u001b[0m \u001b[0msensor\u001b[0m\u001b[0;34m,\u001b[0m \u001b[0matmosphere\u001b[0m\u001b[0;34m)\u001b[0m\u001b[0;34m\u001b[0m\u001b[0;34m\u001b[0m\u001b[0m\n\u001b[0m\u001b[1;32m    242\u001b[0m \u001b[0;34m\u001b[0m\u001b[0m\n\u001b[1;32m    243\u001b[0m             \u001b[0;32mreturn\u001b[0m \u001b[0mresult\u001b[0m\u001b[0;34m\u001b[0m\u001b[0;34m\u001b[0m\u001b[0m\n",
      "\u001b[0;32m~/smrt/smrt/rtsolver/dort.py\u001b[0m in \u001b[0;36msolve\u001b[0;34m(self, snowpack, emmodels, sensor, atmosphere)\u001b[0m\n\u001b[1;32m     94\u001b[0m         \u001b[0mm_max\u001b[0m \u001b[0;34m=\u001b[0m \u001b[0mself\u001b[0m\u001b[0;34m.\u001b[0m\u001b[0mm_max\u001b[0m \u001b[0;32mif\u001b[0m \u001b[0mself\u001b[0m\u001b[0;34m.\u001b[0m\u001b[0msensor\u001b[0m\u001b[0;34m.\u001b[0m\u001b[0mmode\u001b[0m \u001b[0;34m==\u001b[0m \u001b[0;34m'A'\u001b[0m \u001b[0;32melse\u001b[0m \u001b[0;36m0\u001b[0m  \u001b[0;31m# force m_max=0 for passive microwave\u001b[0m\u001b[0;34m\u001b[0m\u001b[0;34m\u001b[0m\u001b[0m\n\u001b[1;32m     95\u001b[0m \u001b[0;34m\u001b[0m\u001b[0m\n\u001b[0;32m---> 96\u001b[0;31m         \u001b[0moutmu\u001b[0m\u001b[0;34m,\u001b[0m \u001b[0mintensity\u001b[0m \u001b[0;34m=\u001b[0m \u001b[0mself\u001b[0m\u001b[0;34m.\u001b[0m\u001b[0mdort\u001b[0m\u001b[0;34m(\u001b[0m\u001b[0mm_max\u001b[0m\u001b[0;34m=\u001b[0m\u001b[0mm_max\u001b[0m\u001b[0;34m)\u001b[0m\u001b[0;34m\u001b[0m\u001b[0;34m\u001b[0m\u001b[0m\n\u001b[0m\u001b[1;32m     97\u001b[0m \u001b[0;34m\u001b[0m\u001b[0m\n\u001b[1;32m     98\u001b[0m         \u001b[0;31m#\u001b[0m\u001b[0;34m\u001b[0m\u001b[0;34m\u001b[0m\u001b[0;34m\u001b[0m\u001b[0m\n",
      "\u001b[0;32m~/smrt/smrt/rtsolver/dort.py\u001b[0m in \u001b[0;36mdort\u001b[0;34m(self, m_max, special_return)\u001b[0m\n\u001b[1;32m    196\u001b[0m             \u001b[0;31m# compute the upwelling intensity for mode m\u001b[0m\u001b[0;34m\u001b[0m\u001b[0;34m\u001b[0m\u001b[0;34m\u001b[0m\u001b[0m\n\u001b[1;32m    197\u001b[0m             intensity_up_m = self.dort_modem_banded(m, n_stream, eigenvalue_solver, mu, weight, outmu, n_stream_substrate,\n\u001b[0;32m--> 198\u001b[0;31m                                                     intensity_down_m, special_return=special_return)\n\u001b[0m\u001b[1;32m    199\u001b[0m \u001b[0;34m\u001b[0m\u001b[0m\n\u001b[1;32m    200\u001b[0m             \u001b[0;32mif\u001b[0m \u001b[0mspecial_return\u001b[0m\u001b[0;34m:\u001b[0m  \u001b[0;31m# debugage\u001b[0m\u001b[0;34m\u001b[0m\u001b[0;34m\u001b[0m\u001b[0m\n",
      "\u001b[0;32m~/smrt/smrt/rtsolver/dort.py\u001b[0m in \u001b[0;36mdort_modem_banded\u001b[0;34m(self, m, n_stream, eigenvalue_solver, mu, weight, outmu, n_stream_substrate, intensity_down_m, compute_coherent_only, special_return)\u001b[0m\n\u001b[1;32m    336\u001b[0m                     \u001b[0;32mreturn\u001b[0m \u001b[0mnp\u001b[0m\u001b[0;34m.\u001b[0m\u001b[0mfull\u001b[0m\u001b[0;34m(\u001b[0m\u001b[0mlen\u001b[0m\u001b[0;34m(\u001b[0m\u001b[0moutmu\u001b[0m\u001b[0;34m)\u001b[0m \u001b[0;34m*\u001b[0m \u001b[0mnpol\u001b[0m\u001b[0;34m,\u001b[0m \u001b[0mnp\u001b[0m\u001b[0;34m.\u001b[0m\u001b[0mnan\u001b[0m\u001b[0;34m)\u001b[0m\u001b[0;34m\u001b[0m\u001b[0;34m\u001b[0m\u001b[0m\n\u001b[1;32m    337\u001b[0m             \u001b[0;32melse\u001b[0m\u001b[0;34m:\u001b[0m\u001b[0;34m\u001b[0m\u001b[0;34m\u001b[0m\u001b[0m\n\u001b[0;32m--> 338\u001b[0;31m                 \u001b[0mbeta\u001b[0m\u001b[0;34m,\u001b[0m \u001b[0mEu\u001b[0m\u001b[0;34m,\u001b[0m \u001b[0mEd\u001b[0m \u001b[0;34m=\u001b[0m \u001b[0meigenvalue_solver\u001b[0m\u001b[0;34m[\u001b[0m\u001b[0ml\u001b[0m\u001b[0;34m]\u001b[0m\u001b[0;34m.\u001b[0m\u001b[0msolve\u001b[0m\u001b[0;34m(\u001b[0m\u001b[0mm\u001b[0m\u001b[0;34m,\u001b[0m \u001b[0mcompute_coherent_only\u001b[0m\u001b[0;34m)\u001b[0m\u001b[0;34m\u001b[0m\u001b[0;34m\u001b[0m\u001b[0m\n\u001b[0m\u001b[1;32m    339\u001b[0m \u001b[0;34m\u001b[0m\u001b[0m\n\u001b[1;32m    340\u001b[0m             \u001b[0;31m# deduce the transmittance through the layers\u001b[0m\u001b[0;34m\u001b[0m\u001b[0;34m\u001b[0m\u001b[0;34m\u001b[0m\u001b[0m\n",
      "\u001b[0;32m~/smrt/smrt/rtsolver/dort.py\u001b[0m in \u001b[0;36msolve\u001b[0;34m(self, m, compute_coherent_only)\u001b[0m\n\u001b[1;32m    606\u001b[0m             \u001b[0;31m# diagonalise the matrix. Eq (13)\u001b[0m\u001b[0;34m\u001b[0m\u001b[0;34m\u001b[0m\u001b[0;34m\u001b[0m\u001b[0m\n\u001b[1;32m    607\u001b[0m             \u001b[0;32mtry\u001b[0m\u001b[0;34m:\u001b[0m\u001b[0;34m\u001b[0m\u001b[0;34m\u001b[0m\u001b[0m\n\u001b[0;32m--> 608\u001b[0;31m                 \u001b[0mbeta\u001b[0m\u001b[0;34m,\u001b[0m \u001b[0mE\u001b[0m \u001b[0;34m=\u001b[0m \u001b[0mscipy\u001b[0m\u001b[0;34m.\u001b[0m\u001b[0mlinalg\u001b[0m\u001b[0;34m.\u001b[0m\u001b[0meig\u001b[0m\u001b[0;34m(\u001b[0m\u001b[0mA\u001b[0m\u001b[0;34m,\u001b[0m \u001b[0moverwrite_a\u001b[0m\u001b[0;34m=\u001b[0m\u001b[0;32mTrue\u001b[0m\u001b[0;34m)\u001b[0m\u001b[0;34m\u001b[0m\u001b[0;34m\u001b[0m\u001b[0m\n\u001b[0m\u001b[1;32m    609\u001b[0m             \u001b[0;32mexcept\u001b[0m \u001b[0mscipy\u001b[0m\u001b[0;34m.\u001b[0m\u001b[0mlinalg\u001b[0m\u001b[0;34m.\u001b[0m\u001b[0mLinAlgError\u001b[0m\u001b[0;34m:\u001b[0m\u001b[0;34m\u001b[0m\u001b[0;34m\u001b[0m\u001b[0m\n\u001b[1;32m    610\u001b[0m                 \u001b[0mdiagonalization_failed\u001b[0m \u001b[0;34m=\u001b[0m \u001b[0;32mTrue\u001b[0m\u001b[0;34m\u001b[0m\u001b[0;34m\u001b[0m\u001b[0m\n",
      "\u001b[0;32m~/miniconda3/lib/python3.7/site-packages/scipy/linalg/decomp.py\u001b[0m in \u001b[0;36meig\u001b[0;34m(a, b, left, right, overwrite_a, overwrite_b, check_finite, homogeneous_eigvals)\u001b[0m\n\u001b[1;32m    243\u001b[0m                                     \u001b[0mcompute_vl\u001b[0m\u001b[0;34m=\u001b[0m\u001b[0mcompute_vl\u001b[0m\u001b[0;34m,\u001b[0m\u001b[0;34m\u001b[0m\u001b[0;34m\u001b[0m\u001b[0m\n\u001b[1;32m    244\u001b[0m                                     \u001b[0mcompute_vr\u001b[0m\u001b[0;34m=\u001b[0m\u001b[0mcompute_vr\u001b[0m\u001b[0;34m,\u001b[0m\u001b[0;34m\u001b[0m\u001b[0;34m\u001b[0m\u001b[0m\n\u001b[0;32m--> 245\u001b[0;31m                                     overwrite_a=overwrite_a)\n\u001b[0m\u001b[1;32m    246\u001b[0m         \u001b[0mt\u001b[0m \u001b[0;34m=\u001b[0m \u001b[0;34m{\u001b[0m\u001b[0;34m'f'\u001b[0m\u001b[0;34m:\u001b[0m \u001b[0;34m'F'\u001b[0m\u001b[0;34m,\u001b[0m \u001b[0;34m'd'\u001b[0m\u001b[0;34m:\u001b[0m \u001b[0;34m'D'\u001b[0m\u001b[0;34m}\u001b[0m\u001b[0;34m[\u001b[0m\u001b[0mwr\u001b[0m\u001b[0;34m.\u001b[0m\u001b[0mdtype\u001b[0m\u001b[0;34m.\u001b[0m\u001b[0mchar\u001b[0m\u001b[0;34m]\u001b[0m\u001b[0;34m\u001b[0m\u001b[0;34m\u001b[0m\u001b[0m\n\u001b[1;32m    247\u001b[0m         \u001b[0mw\u001b[0m \u001b[0;34m=\u001b[0m \u001b[0mwr\u001b[0m \u001b[0;34m+\u001b[0m \u001b[0m_I\u001b[0m \u001b[0;34m*\u001b[0m \u001b[0mwi\u001b[0m\u001b[0;34m\u001b[0m\u001b[0;34m\u001b[0m\u001b[0m\n",
      "\u001b[0;31mKeyboardInterrupt\u001b[0m: "
     ]
    }
   ],
   "source": [
    "RM_restricted = np.zeros((len(d_range),len(S_range),4))\n",
    "    #array, which will be filled with re\n",
    "for di,d in enumerate(d_range):\n",
    "    d_try=d #initial thickness guess\n",
    "    set_layers = layers #chose number of layers depending on sea ice thickness\n",
    "    for si,s in enumerate(S_range):\n",
    "        retrieval=[] #refresh retrieval array\n",
    "        S_try = s \n",
    "        for i in range(N): # retrieval is repeated N times for stats\n",
    "            p_try        = (d_try,S_try) # initial value (d,S)\n",
    "            Tb_obs       = Tb_S_d(p_try) # simulate observed Tb\n",
    "            Tb_obs_noise = Tb_obs + scipy.randn(len_frequency)*0.5 # Simulate measurement noise\n",
    "            initial_guess = array([0.5,6.0]) # initial guess (d,S): starting point for the retrieval\n",
    " \n",
    "            # solve inversion problem with minimize-func\n",
    "            result  =  minimize(objective_func, initial_guess,\n",
    "                                args        = (Tb_obs_noise,), \n",
    "                                bounds      = bounds, \n",
    "                                method      = 'SLSQP',\n",
    "                                tol         = 1e-3,\n",
    "                                constraints = {'type': 'ineq', 'fun': subject_func}) #constraint type: inequality\n",
    "            retrieval.append(result.x) #collect retrieval\n",
    "        retrieval = np.array(retrieval)\n",
    "        d_retrieval,d_sig_retrieval = mean(retrieval[:,0]),std(d_try-retrieval[:,0])\n",
    "        S_retrieval,S_sig_retrieval = mean(retrieval[:,1]),std(S_ice_try-retrieval[:,1])\n",
    "        RM_restricted[di,si,0] = d_try-d_retrieval\n",
    "        RM_restricted[di,si,1] = d_sig_retrieval\n",
    "        RM_restricted[di,si,2] = S_ice_try-S_retrieval\n",
    "        RM_restricted[di,si,3] = S_sig_retrieval"
   ]
  },
  {
   "cell_type": "code",
   "execution_count": 152,
   "metadata": {},
   "outputs": [
    {
     "data": {
      "text/plain": [
       "<matplotlib.colorbar.Colorbar at 0x119996748>"
      ]
     },
     "execution_count": 152,
     "metadata": {},
     "output_type": "execute_result"
    },
    {
     "data": {
      "image/png": "[encoded data removed]",
      "text/plain": [
       "<Figure size 1152x864 with 8 Axes>"
      ]
     },
     "metadata": {
      "needs_background": "light"
     },
     "output_type": "display_data"
    }
   ],
   "source": [
    "############################# plot result ####################################################################\n",
    "\n",
    "results_fig = figure(figsize=(16,12))\n",
    "subplot(2,2,1)\n",
    "pcolormesh(S_range,d_range,RM_restricted[:,:,0], cmap=cm.coolwarm,vmin=-0.3,vmax=0.3)\n",
    "xlabel('S')\n",
    "ylabel('d [m]')\n",
    "colorbar()\n",
    "title('$\\Delta$d [m]')\n",
    "\n",
    "subplot(2,2,2)\n",
    "pcolormesh(S_range,d_range,RM_restricted[:,:,1], cmap=cm.hot_r,vmin=0,vmax=0.3)\n",
    "xlabel('S')\n",
    "ylabel('d [m]')\n",
    "title('$\\sigma_d$ [m]')\n",
    "colorbar()\n",
    "\n",
    "subplot(2,2,3)\n",
    "pcolormesh(S_range,d_range,RM_restricted[:,:,2], cmap=cm.coolwarm,vmin=-3,vmax=3)\n",
    "xlabel('S')\n",
    "ylabel('d [m]')\n",
    "colorbar()\n",
    "title('$\\Delta$S [g/kg]')\n",
    "subplot(2,2,4)\n",
    "\n",
    "pcolormesh(S_range,d_range,RM_restricted[:,:,3], cmap=cm.hot_r,vmin=0,vmax=3)\n",
    "xlabel('S')\n",
    "ylabel('d [m]')\n",
    "title('$\\sigma_s$ [g/kg]')\n",
    "colorbar()"
   ]
  },
  {
   "cell_type": "code",
   "execution_count": null,
   "metadata": {},
   "outputs": [],
   "source": []
  }
 ],
 "metadata": {
  "kernelspec": {
   "display_name": "Python 3",
   "language": "python",
   "name": "python3"
  },
  "language_info": {
   "codemirror_mode": {
    "name": "ipython",
    "version": 3
   },
   "file_extension": ".py",
   "mimetype": "text/x-python",
   "name": "python",
   "nbconvert_exporter": "python",
   "pygments_lexer": "ipython3",
   "version": "3.7.1"
  }
 },
 "nbformat": 4,
 "nbformat_minor": 2
}
