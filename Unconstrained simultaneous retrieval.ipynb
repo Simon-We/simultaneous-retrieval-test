{
 "cells": [
  {
   "cell_type": "markdown",
   "metadata": {},
   "source": [
    "## Exemplary script for unconstrained simultaneous retrieval\n",
    "\n",
    "This Python notebook provides an exemplary script for the unconstrained simultaneous retrieval of sea ice thickness d and sea ice Salinity d. Brightness temperature (TB) simulation is computed with SMRT. Therefore, to run the script it is required to have SMRT installed. I had SMRT installed on the server of University of Hamburg. Hence, if working here, simply run\n",
    "\n",
    "-> module load anaconda3\n",
    "\n",
    "in your terminal prior to executing this script. When working from your home PC, you must install SMRT first. Therefore, you can use\n",
    "\n",
    "-> git clone https://github.com/smrt-model/smrt\n",
    "\n",
    "\n",
    "\n",
    "Please make sure you set the Pythonpath for SMRT in your /.bash_rc. Therefore, edit your /.bash_rc with\n",
    "\n",
    "-> export PYTHONPATH=\"/home/User/location/smrt\"\n",
    "\n",
    "\n",
    "For a more detailed description on how to install SMRT, see https://github.com/smrt-model.\n",
    "\n",
    "\n",
    "\n",
    "\n",
    "For more information in the below script, have a look in my Thesis $\\textit{Advancing sea ice remote sensing through wideband brightness temperature simulation}$ \n",
    "\n",
    "or feel free to contact me: simon.we@me.com\n",
    "\n",
    "\n",
    "This code follows the basic idea and snippet of Dr. Lars Kaleschke, Alfred Wegener Institut, Bremerhaven. lars.kaleschke@awi.de\n",
    "\n",
    "Note: TB simulation with SMRT is likely to cause multi-threading. You can avoid multi-threading by implementing \n",
    "\n",
    "\n",
    "in your code.\n",
    "\n",
    "When running the script for the first time, make sure to chose low N and low NI to keep computational time at a minimum"
   ]
  },
  {
   "cell_type": "code",
   "execution_count": 1,
   "metadata": {},
   "outputs": [
    {
     "name": "stdout",
     "output_type": "stream",
     "text": [
      "Populating the interactive namespace from numpy and matplotlib\n"
     ]
    }
   ],
   "source": [
    "%pylab inline\n",
    "import scipy.stats as stats\n",
    "import pandas as pd\n",
    "from io import StringIO\n",
    "from scipy.optimize import curve_fit, minimize\n",
    "import scipy.io as sio\n",
    "import numpy as np\n",
    "import matplotlib.pyplot as plt\n",
    "\n",
    "#load SMRT modules\n",
    "from smrt import make_model, make_snowpack, sensor_list, make_ice_column\n",
    "from smrt.utils import dB\n",
    "from smrt import PSU\n",
    "from smrt.permittivity.wetsnow import wetsnow_permittivity"
   ]
  },
  {
   "cell_type": "code",
   "execution_count": 2,
   "metadata": {},
   "outputs": [],
   "source": [
    "########################## TB simulation #############################################################################\n",
    "\n",
    "#TB in dependency of d and S\n",
    "def Tb_S_d(p):\n",
    "    d,S_ice=p[0],p[1]\n",
    "    T_ice = linspace(273.15+(temperature_init), 273.15 - 1.8, 2*set_layers+1)\n",
    "    c=1.0\n",
    "    return Tb_f(c,d,T_ice,S_ice)\n",
    "\n",
    "#TB simulation with SMRT for frequency f\n",
    "def Tb_f(c,d,T_ice,S_ice):\n",
    "    Tb=[]\n",
    "    for f in frequency:\n",
    "        sensor = sensor_list.passive(f*1e9, incidence_angle) #sensor configuration\n",
    "        temperature = linspace(273.15+(surface_temperature), 273.15+(water_temperature), 2*set_layers+1)\n",
    "                                #temperature gradient in the ice from surface temp\n",
    "                                #at top to temperature of water at bottom\n",
    "        temperature = temperature[1::2] # average temperatures of layers (=temperature at midpoints)\n",
    "        thickness = array([d/set_layers] * set_layers) #thickness of each layer\n",
    "        salinity = S_ice*PSU #PSU as SI unit for SMRT\n",
    "        \n",
    "        #modelling of a sea ice column with the make layer submodel\n",
    "        ice_column = make_ice_column(ice_type=ice_type,thickness=thickness,\n",
    "                                temperature=temperature,\n",
    "                                microstructure_model=\"exponential\",\n",
    "                                brine_inclusion_shape=inclusion_shape, \n",
    "                                salinity=salinity,\n",
    "                                corr_length=corr_length,\n",
    "                                add_water_substrate=\"ocean\"\n",
    "                                )\n",
    "\n",
    "        # run the model\n",
    "        res = m.run(sensor, ice_column)\n",
    "        res_TB = (res.TbH() + res.TbV())/2 #mean TB from vertically and horizontally polarized TB\n",
    "        Tb.append(res_TB)\n",
    "    return array(Tb)"
   ]
  },
  {
   "cell_type": "code",
   "execution_count": null,
   "metadata": {},
   "outputs": [],
   "source": [
    "# objective func\n",
    "def objective_func(p, noise):\n",
    "    Tb_model=Tb_S_d(p)\n",
    "    return (Tb_model-noise)**2 "
   ]
  },
  {
   "cell_type": "code",
   "execution_count": null,
   "metadata": {},
   "outputs": [],
   "source": [
    "Gtol = 1e-3 #stopping criteria\n",
    "N_TB_f = 2 # number of frequencies considered in the retrieval"
   ]
  },
  {
   "cell_type": "code",
   "execution_count": null,
   "metadata": {},
   "outputs": [],
   "source": [
    "###########################  SMRT setting  #################################################\n",
    "\n",
    "#medium settings\n",
    "ice_type = 'firstyear' # first-year or multi-year sea ice\n",
    "porosity = 0. # ice porosity in fractions, [0..1]\n",
    "surface_temperature = -20 \n",
    "water_temperature = -1.8\n",
    "corr_length = 1.0e-3 #correlation length\n",
    "inclusion_shape={\"spheres\":1,\"random_needles\":0} #set ratio of spheres and needles\n",
    "\n",
    "#create the sensor\n",
    "incidence_angle = 30 #angle of incidence\n",
    "n_max_stream = 32 #number of computed streams\n",
    "frequency = linspace(0.5,4,N_TB_f) #frequencies in GHz\n",
    "len_frequency = len(frequency)\n",
    "m = make_model(\"iba\", \"dort\", rtsolver_options ={\"n_max_stream\": n_max_stream}) #define the model"
   ]
  },
  {
   "cell_type": "code",
   "execution_count": null,
   "metadata": {},
   "outputs": [],
   "source": [
    "###################### settings for the retrieval ###################################################################\n",
    "\n",
    "bounds = ((0.02,1),(1,25)) #d bounds and S bounds\n",
    "d_range= linspace(0.02,1,1*FI+1) #value range of investigated sea ice thickness\n",
    "S_range= linspace(1,25,1*FI+1) #value range of investigated sea ice salinity\n",
    "layers = 5 #np.round(np.linspace(2,10,len(d_range))).astype(int) #number of ice layers predefined\n",
    "N = 10 # number of times retrieval of each (d,S) is repeated - for statistics (mean and std)"
   ]
  },
  {
   "cell_type": "code",
   "execution_count": null,
   "metadata": {},
   "outputs": [],
   "source": [
    "RM_unrestricted = np.zeros((len(d_range),len(S_range),4))\n",
    "    #array, which will be filled with re\n",
    "\n",
    "for di,d in enumerate(d_range):\n",
    "    d_try=d #initial thickness guess\n",
    "    set_layers = layers #chose number of layers depending on sea ice thickness\n",
    "    for si,s in enumerate(S_range):\n",
    "        S_try = s \n",
    "        p_try=(d_try,S_ice_try)\n",
    "        retrieval=[] #refresh retrieval array\n",
    "        for i in range(N):# retrieval is repeated N times for stats\n",
    "            p_try        = (d_try,S_try) # initial value (d,S)\n",
    "            Tb_obs       = Tb_S_d(p_try) # simulate observed Tb\n",
    "            Tb_obs_noise = Tb_obs + scipy.randn(len_frequency)*0.5 # Simulate measurement noise\n",
    "            initial_guess = array([0.5,6.0]) # initial guess (d,S): starting point for the retrieval\n",
    "            result = opti.least_squares(my_cost, initial_guess[:], \n",
    "                                        args = (Tb_obs_noise,),\n",
    "                                        gtol=Gtol, \n",
    "                                        bounds=bounds)\n",
    "            retrieval.append(result.x)\n",
    "            \n",
    "        retrieval=array(retrieval)\n",
    "        d_retrieval,d_sig_retrieval=mean(retrieval[:,0]),std(d_try-retrieval[:,0])\n",
    "        S_retrival,S_sig_retrieval=mean(retrieval[:,1]),std(S_ice_try-retrieval[:,1])\n",
    "        RM_unrestricted[di,si,0]=d_try-d_retrival\n",
    "        RM_unrestricted[di,si,1]=d_sig_retrieval\n",
    "        RM_unrestricted[di,si,2]=S_ice_try-S_retrieval\n",
    "        RM_unrestricted[di,si,3]=S_sig_retrieval"
   ]
  },
  {
   "cell_type": "code",
   "execution_count": null,
   "metadata": {},
   "outputs": [],
   "source": [
    "############################# plot result ####################################################################\n",
    "\n",
    "results_fig = figure(figsize=(16,12))\n",
    "subplot(2,2,1)\n",
    "pcolormesh(S_range,d_range,RM_unrestricted[:,:,0], cmap=cm.coolwarm,vmin=-0.3,vmax=0.3)\n",
    "xlabel('S')\n",
    "ylabel('d [m]')\n",
    "colorbar()\n",
    "title('$\\Delta$d [m]')\n",
    "\n",
    "subplot(2,2,2)\n",
    "pcolormesh(S_range,d_range,RM_unrestricted[:,:,1], cmap=cm.hot_r,vmin=0,vmax=0.3)\n",
    "xlabel('S')\n",
    "ylabel('d [m]')\n",
    "title('$\\sigma_d$ [m]')\n",
    "colorbar()\n",
    "\n",
    "subplot(2,2,3)\n",
    "pcolormesh(S_range,d_range,RM_unrestricted[:,:,2], cmap=cm.coolwarm,vmin=-3,vmax=3)\n",
    "xlabel('S')\n",
    "ylabel('d [m]')\n",
    "colorbar()\n",
    "title('$\\Delta$S [g/kg]')\n",
    "subplot(2,2,4)\n",
    "\n",
    "pcolormesh(S_range,d_range,RM_unrestricted[:,:,3], cmap=cm.hot_r,vmin=0,vmax=3)\n",
    "xlabel('S')\n",
    "ylabel('d [m]')\n",
    "title('$\\sigma_s$ [g/kg]')\n",
    "colorbar()"
   ]
  }
 ],
 "metadata": {
  "kernelspec": {
   "display_name": "Python 3",
   "language": "python",
   "name": "python3"
  },
  "language_info": {
   "codemirror_mode": {
    "name": "ipython",
    "version": 3
   },
   "file_extension": ".py",
   "mimetype": "text/x-python",
   "name": "python",
   "nbconvert_exporter": "python",
   "pygments_lexer": "ipython3",
   "version": "3.7.1"
  }
 },
 "nbformat": 4,
 "nbformat_minor": 2
}
